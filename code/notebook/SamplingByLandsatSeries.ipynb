{
 "cells": [
  {
   "attachments": {},
   "cell_type": "markdown",
   "id": "6763d3c4",
   "metadata": {},
   "source": [
    "   Author: Jiawei Wei"
   ]
  },
  {
   "cell_type": "code",
   "execution_count": 7,
   "metadata": {
    "tags": []
   },
   "outputs": [
    {
     "name": "stdout",
     "output_type": "stream",
     "text": [
      "4786\n"
     ]
    }
   ],
   "source": [
    "import os\n",
    "from tqdm import tqdm\n",
    "import json\n",
    "import rasterio\n",
    "import numpy as np\n",
    "from sklearn.model_selection import train_test_split\n",
    "\n",
    "write_dir = r'I:\\Unet\\v1\\v1\\notebooks\\patches256'\n",
    "extract50_dir = r'I:\\results\\SST\\landsat\\extractWithLocation\\extract50_withLocation'\n",
    "extract50_ls = []\n",
    "for root, dirs, files in os.walk(extract50_dir):\n",
    "    for file in files:\n",
    "        if file.endswith('tif') and file.startswith('delta'):\n",
    "            extract50_ls.append(file)\n",
    "print(len(extract50_ls))"
   ]
  },
  {
   "cell_type": "code",
   "execution_count": 8,
   "metadata": {
    "tags": []
   },
   "outputs": [
    {
     "name": "stderr",
     "output_type": "stream",
     "text": [
      "100%|██████████████████████████████████████████████████████████████████████████| 4786/4786 [00:00<00:00, 486405.11it/s]"
     ]
    },
    {
     "name": "stdout",
     "output_type": "stream",
     "text": [
      "1013\n",
      "580\n",
      "3167\n",
      "26\n"
     ]
    },
    {
     "name": "stderr",
     "output_type": "stream",
     "text": [
      "\n"
     ]
    }
   ],
   "source": [
    "#sampling by Landsat series\n",
    "\n",
    "L8_ls = []\n",
    "L7_ls = []\n",
    "L5_ls = []\n",
    "L4_ls = []\n",
    "for img_name in tqdm(extract50_ls):\n",
    "    idImg_sub = img_name.rfind('L')\n",
    "    idImgNum_sub1 = img_name.find('_')\n",
    "    idImgNum_sub2 = img_name.find('_', 6)\n",
    "    idImgNum = img_name[idImgNum_sub1+1:idImgNum_sub2]\n",
    "    idImgSeries = img_name[idImg_sub:idImg_sub+4]\n",
    "    if idImgSeries == 'LC08':\n",
    "        L8_ls.append(int(idImgNum))\n",
    "    elif idImgSeries == 'LE07':\n",
    "        L7_ls.append(int(idImgNum))\n",
    "    elif idImgSeries == 'LT05':\n",
    "        L5_ls.append(int(idImgNum))\n",
    "    else:\n",
    "        L4_ls.append(int(idImgNum))\n",
    "\n",
    "print(len(L8_ls))\n",
    "print(len(L7_ls))\n",
    "print(len(L5_ls))\n",
    "print(len(L4_ls))"
   ]
  },
  {
   "cell_type": "code",
   "execution_count": 9,
   "metadata": {
    "tags": []
   },
   "outputs": [
    {
     "name": "stdout",
     "output_type": "stream",
     "text": [
      "810 101 102\n",
      "464 58 58\n",
      "2536 314 317\n",
      "20 3 3\n",
      "3830 476 480\n",
      "<class 'int'>\n"
     ]
    }
   ],
   "source": [
    "#split and write json\n",
    "\n",
    "frames_json = os.path.join(write_dir,'frames_list.json')\n",
    "training_L8, testing_L8 = train_test_split(L8_ls, test_size=0.1)\n",
    "training_L8, validation_L8 = train_test_split(training_L8, test_size=0.11)\n",
    "print(len(training_L8), len(validation_L8), len(testing_L8))\n",
    "\n",
    "training_L7, testing_L7 = train_test_split(L7_ls, test_size=0.1)\n",
    "training_L7, validation_L7 = train_test_split(training_L7, test_size=0.11)\n",
    "print(len(training_L7), len(validation_L7), len(testing_L7))\n",
    "\n",
    "training_L5, testing_L5 = train_test_split(L5_ls, test_size=0.1)\n",
    "training_L5, validation_L5 = train_test_split(training_L5, test_size=0.11)\n",
    "print(len(training_L5), len(validation_L5), len(testing_L5))\n",
    "\n",
    "training_L4, testing_L4 = train_test_split(L4_ls, test_size=0.1)\n",
    "training_L4, validation_L4 = train_test_split(training_L4, test_size=0.11)\n",
    "print(len(training_L4), len(validation_L4), len(testing_L4))\n",
    "\n",
    "training_frames = training_L8+training_L7+training_L5+training_L4\n",
    "validation_frames = validation_L8+validation_L7+validation_L5+validation_L4\n",
    "testing_frames = testing_L8+testing_L7+testing_L5+testing_L4\n",
    "print(len(training_frames), len(validation_frames), len(testing_frames))\n",
    "\n",
    "frame_split = {\n",
    "    'training_frames': training_frames,\n",
    "    'testing_frames': testing_frames,\n",
    "    'validation_frames': validation_frames\n",
    "}\n",
    "print(type(training_frames[0]))\n",
    "with open(frames_json, 'w') as f:\n",
    "    json.dump(frame_split, f)"
   ]
  }
 ],
 "metadata": {
  "kernelspec": {
   "display_name": "Python 3",
   "language": "python",
   "name": "python3"
  },
  "language_info": {
   "codemirror_mode": {
    "name": "ipython",
    "version": 3
   },
   "file_extension": ".py",
   "mimetype": "text/x-python",
   "name": "python",
   "nbconvert_exporter": "python",
   "pygments_lexer": "ipython3",
   "version": "3.8.3"
  }
 },
 "nbformat": 4,
 "nbformat_minor": 5
}
